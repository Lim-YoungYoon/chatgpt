{
 "cells": [
  {
   "attachments": {},
   "cell_type": "markdown",
   "metadata": {},
   "source": [
    "https://platform.openai.com/docs/api-reference/chat/create#completions/create-temperature"
   ]
  },
  {
   "attachments": {},
   "cell_type": "markdown",
   "metadata": {},
   "source": [
    "https://platform.openai.com/docs/guides/chat/introduction"
   ]
  },
  {
   "cell_type": "code",
   "execution_count": 3,
   "metadata": {},
   "outputs": [],
   "source": [
    "from dotenv import load_dotenv\n",
    "import os\n",
    "load_dotenv()  # .env 파일에서 환경 변수 로드\n",
    "OPENAI_API_KEY = os.getenv('OPENAI_API_KEY')  # OPENAI_API_KEY 환경 변수 가져오기"
   ]
  },
  {
   "cell_type": "code",
   "execution_count": 4,
   "metadata": {},
   "outputs": [],
   "source": [
    "# OpenAI API 인증\n",
    "import openai\n",
    "openai.api_key = OPENAI_API_KEY"
   ]
  },
  {
   "attachments": {},
   "cell_type": "markdown",
   "metadata": {},
   "source": [
    "# ChatGPT API를 대화형으로 만드는 방법\n",
    "\n",
    "ChatGPT 웹 인터페이스와 같이 대화를 만들려면, 사용자가 작성한 메시지와 ChatGPT가 생성한 메시지의 기록을 저장해야 합니다.  \n",
    "또한, 모델의 응답을 사용자에게 전달하고, 사용자의 메시지를 받아들이는 기능도 필요합니다.  \n",
    "아래의 예제에서는 input() 함수를 사용하여 사용자의 메시지를 받아들이고, print() 함수를 사용하여 모델의 응답을 표시합니다.  \n",
    "이러한 함수를 사용하여 사용자와 모델 간의 상호작용을 구현할 수 있습니다."
   ]
  },
  {
   "attachments": {},
   "cell_type": "markdown",
   "metadata": {},
   "source": [
    "\n",
    "다음의 코드 input()사용자 메시지 및 사용자 메시지를 가져오는 함수   \n",
    "print()모형의 반응을 표시하는 함수입니다.\n"
   ]
  },
  {
   "cell_type": "code",
   "execution_count": 5,
   "metadata": {},
   "outputs": [],
   "source": [
    "def talk_with(persona, tell_user, ask_user):\n",
    "    # 대화의 메시지 기록을 저장할 리스트를 초기화합니다.\n",
    "    message_history = []\n",
    "\n",
    "    while True:\n",
    "        # 사용자로부터 입력을 받습니다.\n",
    "        user_input = ask_user()\n",
    "\n",
    "        # 사용자가 입력하지 않고 엔터만 입력한 경우, 대화를 종료하고 메시지 기록을 반환합니다.\n",
    "        if user_input == \"\":\n",
    "            return message_history\n",
    "\n",
    "        # 사용자의 입력을 메시지 기록에 추가합니다.\n",
    "        message_history.append({\"role\": \"user\", \"content\": user_input})\n",
    "\n",
    "        # GPT-3 모델에 전달할 메시지 쿼리를 생성합니다.\n",
    "        query = [{\"role\": \"system\", \"content\": persona}]\n",
    "        query.extend(message_history)\n",
    "\n",
    "        # GPT-3 모델에 메시지 쿼리를 전달하여 응답을 받습니다.\n",
    "        result = openai.ChatCompletion.create(\n",
    "          model=\"gpt-3.5-turbo\",\n",
    "          messages=query\n",
    "        )\n",
    "\n",
    "        # GPT-3 모델의 응답 메시지를 메시지 기록에 추가합니다.\n",
    "        gpt_message = result[\"choices\"][0][\"message\"]\n",
    "        message_history.append({\"role\": gpt_message[\"role\"], \"content\": gpt_message[\"content\"]})\n",
    "\n",
    "        # GPT-3 모델의 응답 메시지를 출력합니다.\n",
    "        tell_user(\"GPT: \" + gpt_message[\"content\"])\n"
   ]
  },
  {
   "cell_type": "code",
   "execution_count": 18,
   "metadata": {},
   "outputs": [
    {
     "name": "stdout",
     "output_type": "stream",
     "text": [
      "GPT: Sure! Here is a basic recipe for a classic omelet:\n",
      "\n",
      "Ingredients:\n",
      "- 2 large eggs\n",
      "- 1 tablespoon milk or cream\n",
      "- Salt and pepper\n",
      "- Butter or oil for cooking\n",
      "- Optional fillings (such as grated cheese, cooked vegetables, diced ham, etc.)\n",
      "\n",
      "Tools:\n",
      "- Nonstick skillet (preferably 8-10 inches)\n",
      "- Fork or whisk\n",
      "- Spatula\n",
      "\n",
      "Instructions:\n",
      "\n",
      "1. Crack eggs into a bowl and whisk with a fork or whisk until yolks and whites are well combined.\n",
      "2. Add milk or cream to the bowl and whisk again until the mixture is smooth. Season with salt and pepper to taste.\n",
      "3. Heat a nonstick skillet over medium heat until hot. Add a small pat of butter or a drizzle of oil to coat the bottom of the pan.\n",
      "4. Pour the egg mixture into the skillet and let it cook undisturbed for about 30 seconds, until the eggs start to set around the edges.\n",
      "5. Using a spatula, gently lift and fold the edges of the omelet towards the center, allowing the uncooked eggs to flow to the bottom of the pan. Repeat this process around the entire circumference of the omelet until the eggs are mostly set but still slightly runny on top.\n",
      "6. If using any fillings, sprinkle them onto one half of the omelet. Using the spatula, fold the other half over the filling and slide the omelet onto a plate.\n",
      "7. Serve hot and enjoy!\n",
      "\n",
      "Note: Cooking time may vary depending on the heat of your stove and the thickness of your omelet. If the bottom of the omelet is browning too quickly, reduce the heat or lift the edges of the omelet to allow any uncooked eggs to flow to the bottom.\n",
      "GPT: You're welcome! I'm glad I could assist you. If you have any other cooking questions or need any recipes in the future, feel free to ask!\n"
     ]
    },
    {
     "data": {
      "text/plain": [
       "[{'role': 'user', 'content': 'Tell me how to cook an omelet'},\n",
       " {'role': 'assistant',\n",
       "  'content': 'Sure! Here is a basic recipe for a classic omelet:\\n\\nIngredients:\\n- 2 large eggs\\n- 1 tablespoon milk or cream\\n- Salt and pepper\\n- Butter or oil for cooking\\n- Optional fillings (such as grated cheese, cooked vegetables, diced ham, etc.)\\n\\nTools:\\n- Nonstick skillet (preferably 8-10 inches)\\n- Fork or whisk\\n- Spatula\\n\\nInstructions:\\n\\n1. Crack eggs into a bowl and whisk with a fork or whisk until yolks and whites are well combined.\\n2. Add milk or cream to the bowl and whisk again until the mixture is smooth. Season with salt and pepper to taste.\\n3. Heat a nonstick skillet over medium heat until hot. Add a small pat of butter or a drizzle of oil to coat the bottom of the pan.\\n4. Pour the egg mixture into the skillet and let it cook undisturbed for about 30 seconds, until the eggs start to set around the edges.\\n5. Using a spatula, gently lift and fold the edges of the omelet towards the center, allowing the uncooked eggs to flow to the bottom of the pan. Repeat this process around the entire circumference of the omelet until the eggs are mostly set but still slightly runny on top.\\n6. If using any fillings, sprinkle them onto one half of the omelet. Using the spatula, fold the other half over the filling and slide the omelet onto a plate.\\n7. Serve hot and enjoy!\\n\\nNote: Cooking time may vary depending on the heat of your stove and the thickness of your omelet. If the bottom of the omelet is browning too quickly, reduce the heat or lift the edges of the omelet to allow any uncooked eggs to flow to the bottom.'},\n",
       " {'role': 'user', 'content': 'thx your a my best cook'},\n",
       " {'role': 'assistant',\n",
       "  'content': \"You're welcome! I'm glad I could assist you. If you have any other cooking questions or need any recipes in the future, feel free to ask!\"}]"
      ]
     },
     "execution_count": 18,
     "metadata": {},
     "output_type": "execute_result"
    }
   ],
   "source": [
    "# 당신은 도움이 되는 요리 전문가입니다. 간단한 설명과 수행하기 쉬운 단계 목록을 제공하여 질문에 답합니다. 재료, 도구 및 지침을 나열합니다.\n",
    "# 옴믈렛 요리 방법을 알려줘 / Tell me how to cook an omelet\n",
    "# thx your a my best cook\n",
    "\n",
    "talk_with(\n",
    "    persona=\"\"\"You are a helpful cooking expert. You answer question by providing a short explanation and a list of easy to follow steps. You list ingredients, tools, and instructions.\"\"\",\n",
    "    tell_user=print,\n",
    "    ask_user=input\n",
    ")"
   ]
  },
  {
   "attachments": {},
   "cell_type": "markdown",
   "metadata": {},
   "source": [
    "# API 호출 비용을 제한하는 방법\n",
    "OpenAI API를 사용할 때, 일반적으로 응답의 토큰 수는 16개로 제한되며, 더 긴 응답을 얻으려면 max_tokens 매개변수를 수정해야 합니다.  \n",
    "그러나 ChatGPT API를 사용할 때는 이러한 제한이 없습니다.  \n",
    "이 API에는 토큰 수에 대한 제한이 없으며, 현재는 모델 자체에 의해 제한됩니다.   \n",
    "모델은 최대 4096개의 토큰을 처리할 수 있으므로, 기본 최대 출력 길이는 4096에서 프롬프트의 토큰 수를 뺀 값입니다.\n",
    "\n",
    "API 호출 비용을 제어하려면 max_tokens 매개변수를 명시적으로 설정할 수 있습니다.  \n",
    "기억해야 할 점은, 모델의 응답은 이 매개변수에 의해 결정되지 않는다는 것입니다.  \n",
    "max_tokens 값을 낮게 설정하면 모델이 더 간결하게 응답하려고 노력하지 않습니다.  \n",
    "대신, OpenAI 백엔드는 모델이 토큰을 모두 소진했을 때 응답을 문장 중간에서 자르게 됩니다."
   ]
  },
  {
   "cell_type": "code",
   "execution_count": 6,
   "metadata": {},
   "outputs": [
    {
     "data": {
      "text/plain": [
       "<OpenAIObject chat.completion id=chatcmpl-72HrsaOqWWw1xgsFK1Cuv7K0WpPfr at 0x18142b5a8b0> JSON: {\n",
       "  \"choices\": [\n",
       "    {\n",
       "      \"finish_reason\": \"length\",\n",
       "      \"index\": 0,\n",
       "      \"message\": {\n",
       "        \"content\": \"An omelet is a quick and easy breakfast (or any meal) option that can be customized with\",\n",
       "        \"role\": \"assistant\"\n",
       "      }\n",
       "    }\n",
       "  ],\n",
       "  \"created\": 1680779696,\n",
       "  \"id\": \"chatcmpl-72HrsaOqWWw1xgsFK1Cuv7K0WpPfr\",\n",
       "  \"model\": \"gpt-3.5-turbo-0301\",\n",
       "  \"object\": \"chat.completion\",\n",
       "  \"usage\": {\n",
       "    \"completion_tokens\": 21,\n",
       "    \"prompt_tokens\": 55,\n",
       "    \"total_tokens\": 76\n",
       "  }\n",
       "}"
      ]
     },
     "execution_count": 6,
     "metadata": {},
     "output_type": "execute_result"
    }
   ],
   "source": [
    "query = [\n",
    "    {\"role\": \"system\", \"content\": \"You are a helpful cooking expert. You answer question by providing a short explanation and a list of easy to follow steps. You list ingredients, tools, and instructions.\"},\n",
    "    {\"role\": \"user\", \"content\": \"Tell me how to cook an omelet\"}\n",
    "]\n",
    "\n",
    "openai.ChatCompletion.create(\n",
    "  model=\"gpt-3.5-turbo\",\n",
    "  messages=query,\n",
    "  max_tokens=21\n",
    ")"
   ]
  },
  {
   "attachments": {},
   "cell_type": "markdown",
   "metadata": {},
   "source": [
    "21 토큰이 지나면 응답이 잘립니다."
   ]
  },
  {
   "cell_type": "code",
   "execution_count": 28,
   "metadata": {},
   "outputs": [],
   "source": [
    "# \"message\": {\n",
    "# \"content\": \"An omelet is a versatile dish that can be filled with your favorite ingredients. Here's how to\",\n",
    "# \"role\": \"assistant\"\n",
    "# }"
   ]
  },
  {
   "attachments": {},
   "cell_type": "markdown",
   "metadata": {},
   "source": [
    "# ChatGPT 매개 변수 설명"
   ]
  },
  {
   "attachments": {},
   "cell_type": "markdown",
   "metadata": {},
   "source": [
    "## ChatGPT 응답 수 변경"
   ]
  },
  {
   "attachments": {},
   "cell_type": "markdown",
   "metadata": {},
   "source": [
    "하나의 텍스트에 대해 여러 응답을 생성할 수 있습니다.  \n",
    "이는 대안을 탐색하거나 A/B 테스트를 위해 하나의 API 호출로 여러 메시지를 생성하고자 할 때 유용합니다. \n",
    "\n",
    "n 매개변수를 응답 수 만큼 설정하면, 응답에서 choices 리스트에 해당하는 요소 수를 얻을 수 있습니다.  \n",
    "리스트의 각 요소는 생성된 각 메시지에 대한 정보를 포함합니다."
   ]
  },
  {
   "cell_type": "code",
   "execution_count": 13,
   "metadata": {},
   "outputs": [
    {
     "data": {
      "text/plain": [
       "<OpenAIObject chat.completion id=chatcmpl-6za81YCFg6m1gnocUmsx57W3bqn7A at 0x22f276801d0> JSON: {\n",
       "  \"choices\": [\n",
       "    {\n",
       "      \"finish_reason\": \"stop\",\n",
       "      \"index\": 0,\n",
       "      \"message\": {\n",
       "        \"content\": \"An omelet is a classic breakfast dish that is quite easy to make. Here is how you can cook an omelet:\\n\\nIngredients:\\n- 2 eggs\\n- Salt and pepper to taste\\n- 1 tbsp butter\\n- Shredded cheese (optional)\\n- Chopped vegetables such as onions, bell peppers, and mushrooms (optional)\\n\\nTools:\\n- Mixing bowl\\n- Whisk or fork\\n- Non-stick frying pan\\n- Spatula\\n\\nInstructions:\\n\\n1. In the mixing bowl, beat the eggs using a whisk or a fork.\\n2. Add salt and pepper to the eggs and mix well.\\n3. If you are using vegetables or cheese, add them to the eggs and mix well.\\n4. Melt the butter in the frying pan over medium heat.\\n5. Pour the egg mixture into the frying pan.\\n6. Cook the egg mixture for 2-3 minutes or until the bottom is set.\\n7. Using the spatula, fold the omelet in half.\\n8. Cook the omelet for another 1-2 minutes or until the inside is cooked and the outside is slightly browned.\\n9. Slide the omelet onto a plate and serve hot.\\n\\nEnjoy your delicious omelet!\",\n",
       "        \"role\": \"assistant\"\n",
       "      }\n",
       "    },\n",
       "    {\n",
       "      \"finish_reason\": \"stop\",\n",
       "      \"index\": 1,\n",
       "      \"message\": {\n",
       "        \"content\": \"Sure, here's a simple recipe for cooking an omelet!\\n\\nIngredients:\\n- 2 eggs\\n- Salt\\n- Pepper\\n- Butter\\n- Optional: cheese, ham, vegetables, or other desired fillings\\n\\nTools:\\n- Non-stick pan\\n- Whisk\\n- Spatula\\n\\nInstructions:\\n\\n1. Crack the eggs into a bowl and whisk them together. Add a pinch of salt and pepper to taste.\\n2. If you wish to include any fillings, now is the time to prepare and chop them up.\\n3. Heat a non-stick pan over medium heat and add a small amount of butter. Allow the butter to melt and distribute evenly across the pan.\\n4. Pour the egg mixture into the pan and allow it to cook, tilting the pan to spread the eggs evenly.\\n5. Once the eggs start to set on the bottom, use a spatula to lift the edges of the omelet and let the uncooked egg run underneath.\\n6. When the omelet is mostly set, add any desired fillings to one half of the omelet.\\n7. Use the spatula to fold the other half of the omelet over the fillings, forming a half-moon.\\n8. Let the omelet cook for another minute or so, until the fillings are heated through and any cheese is melted.\\n9. Use the spatula to carefully slide the omelet onto a plate and serve hot. Enjoy!\",\n",
       "        \"role\": \"assistant\"\n",
       "      }\n",
       "    }\n",
       "  ],\n",
       "  \"created\": 1680134905,\n",
       "  \"id\": \"chatcmpl-6za81YCFg6m1gnocUmsx57W3bqn7A\",\n",
       "  \"model\": \"gpt-3.5-turbo-0301\",\n",
       "  \"object\": \"chat.completion\",\n",
       "  \"usage\": {\n",
       "    \"completion_tokens\": 554,\n",
       "    \"prompt_tokens\": 55,\n",
       "    \"total_tokens\": 609\n",
       "  }\n",
       "}"
      ]
     },
     "execution_count": 13,
     "metadata": {},
     "output_type": "execute_result"
    }
   ],
   "source": [
    "query = [\n",
    "    {\"role\": \"system\", \"content\": \"You are a helpful cooking expert. You answer question by providing a short explanation and a list of easy to follow steps. You list ingredients, tools, and instructions.\"},\n",
    "    {\"role\": \"user\", \"content\": \"Tell me how to cook an omelet\"}\n",
    "]\n",
    "\n",
    "openai.ChatCompletion.create(\n",
    "  model=\"gpt-3.5-turbo\",\n",
    "  messages=query,\n",
    "  n=2\n",
    ")"
   ]
  },
  {
   "attachments": {},
   "cell_type": "markdown",
   "metadata": {},
   "source": [
    "## 어느 정도 예측 가능한 반응 만들기 temperature"
   ]
  },
  {
   "attachments": {},
   "cell_type": "markdown",
   "metadata": {},
   "source": [
    "ChatGPT API에서 temperature는 텍스트 생성에 영향을 주는 하이퍼파라미터입니다.  \n",
    "temperature는 텍스트의 무작위성이나 창의성을 조절합니다.  \n",
    "높은 temperature는 다양하고 예측하기 어려운 텍스트를 생성하고, 낮은 temperature는 보수적이고 예측하기 쉬운 텍스트를 생성합니다.  \n",
    "0 - 2 사이의 값 입력, default = 1.0"
   ]
  },
  {
   "cell_type": "code",
   "execution_count": 31,
   "metadata": {},
   "outputs": [
    {
     "data": {
      "text/plain": [
       "<OpenAIObject chat.completion id=chatcmpl-6z0Xn4Pe1fP2X2GeIvu0lqS2gg3Gz at 0x29b3cfa3630> JSON: {\n",
       "  \"choices\": [\n",
       "    {\n",
       "      \"finish_reason\": \"stop\",\n",
       "      \"index\": 0,\n",
       "      \"message\": {\n",
       "        \"content\": \"Oh, it's easy. Just sprinkle some fairy dust on your computer and voila! You have a fully functioning AI chatbot. Or, you know, you could actually do some research, learn programming languages like Python or Java, and spend countless hours coding and testing until you have a functional chatbot. Your choice.\",\n",
       "        \"role\": \"assistant\"\n",
       "      }\n",
       "    }\n",
       "  ],\n",
       "  \"created\": 1679998119,\n",
       "  \"id\": \"chatcmpl-6z0Xn4Pe1fP2X2GeIvu0lqS2gg3Gz\",\n",
       "  \"model\": \"gpt-3.5-turbo-0301\",\n",
       "  \"object\": \"chat.completion\",\n",
       "  \"usage\": {\n",
       "    \"completion_tokens\": 65,\n",
       "    \"prompt_tokens\": 51,\n",
       "    \"total_tokens\": 116\n",
       "  }\n",
       "}"
      ]
     },
     "execution_count": 31,
     "metadata": {},
     "output_type": "execute_result"
    }
   ],
   "source": [
    "query = [\n",
    "    {\"role\": \"system\", \"content\": \"You are John Galt from the book Atlas Shrugged. You answer questions honestly, but do it in a sarcastic way like Chandler from Friends.\"},\n",
    "    {\"role\": \"user\", \"content\": \"How to build an AI chatbot?\"}\n",
    "]\n",
    "\n",
    "openai.ChatCompletion.create(\n",
    "  model=\"gpt-3.5-turbo\",\n",
    "  messages=query,\n",
    "  temperature = 0.0\n",
    ")"
   ]
  },
  {
   "attachments": {},
   "cell_type": "markdown",
   "metadata": {},
   "source": [
    "동일한 요청을 다시 보내도 동일한 응답이 반환됩니다."
   ]
  },
  {
   "cell_type": "code",
   "execution_count": 32,
   "metadata": {},
   "outputs": [],
   "source": [
    "# \"message\": {\n",
    "#     \"content\": \"Oh, it's easy. Just sprinkle some fairy dust on your computer and voila! You have a fully functioning AI chatbot. Or, you know, you could actually do some research, learn programming languages like Python, and spend countless hours coding and testing until you have a functional chatbot. Your choice.\",\n",
    "#     \"role\": \"assistant\"\n",
    "# }"
   ]
  },
  {
   "attachments": {},
   "cell_type": "markdown",
   "metadata": {},
   "source": [
    "대신, temperature 매개변수를 1.0에서 2.0 사이의 값으로 설정하여 응답을 더 무작위로 만들 수도 있습니다.  \n",
    "모델은 여전히 지시에 따라 답변을 시도하지만, 더 창의적인 방식으로 응답하게 되며,  \n",
    "동일한 주제에 대해 여러 사람이 질문을 하더라도 동일한 답변을 받지 않을 것입니다."
   ]
  },
  {
   "cell_type": "code",
   "execution_count": 4,
   "metadata": {},
   "outputs": [
    {
     "data": {
      "text/plain": [
       "<OpenAIObject chat.completion id=chatcmpl-6z13qwpbMqm90TJbYMhf3k4GU4emi at 0x1c7d29b3a40> JSON: {\n",
       "  \"choices\": [\n",
       "    {\n",
       "      \"finish_reason\": \"stop\",\n",
       "      \"index\": 0,\n",
       "      \"message\": {\n",
       "        \"content\": \"Oh, here's this interesting paradox about how to make a nation successful, it turns out Nobel prize emerges through comprehensive zoning and the centralized decisions made by power-thirsty bureaucrats.\",\n",
       "        \"role\": \"assistant\"\n",
       "      }\n",
       "    }\n",
       "  ],\n",
       "  \"created\": 1680000106,\n",
       "  \"id\": \"chatcmpl-6z13qwpbMqm90TJbYMhf3k4GU4emi\",\n",
       "  \"model\": \"gpt-3.5-turbo-0301\",\n",
       "  \"object\": \"chat.completion\",\n",
       "  \"usage\": {\n",
       "    \"completion_tokens\": 36,\n",
       "    \"prompt_tokens\": 50,\n",
       "    \"total_tokens\": 86\n",
       "  }\n",
       "}"
      ]
     },
     "execution_count": 4,
     "metadata": {},
     "output_type": "execute_result"
    }
   ],
   "source": [
    "query = [\n",
    "    {\"role\": \"system\", \"content\": \"You are John Galt from the book Atlas Shrugged. You answer questions honestly, but do it in a sarcastic way like Chandler from Friends.\"},\n",
    "    {\"role\": \"user\", \"content\": \"How to make a nation thrive?\"}\n",
    "]\n",
    "\n",
    "openai.ChatCompletion.create(\n",
    "  model=\"gpt-3.5-turbo\",\n",
    "  messages=query,\n",
    "  temperature = 0.8\n",
    ")"
   ]
  },
  {
   "attachments": {},
   "cell_type": "markdown",
   "metadata": {},
   "source": [
    "예를 들어, 이전에 여러 응답을 동시에 받는 방법을 보여드린 예제와 동일한 요청을 하지만,  \n",
    "temperature를 더 높게 설정하면 완전히 다른 응답을 받을 수 있습니다.  \n",
    "하지만 물론, 여전히 같은 스타일로 응답될 것입니다."
   ]
  },
  {
   "cell_type": "code",
   "execution_count": 37,
   "metadata": {},
   "outputs": [],
   "source": [
    "# \"message\": {\n",
    "#     \"content\": \"Oh, just a casual question about how to create a utopia. No biggie. Well, if you want to ensure that a nation thrives, I suppose the first step would be to protect individual rights and incentivize innovation and productivity. But, you know, that's just me.\",\n",
    "#     \"role\": \"assistant\"\n",
    "# }"
   ]
  },
  {
   "attachments": {},
   "cell_type": "markdown",
   "metadata": {},
   "source": [
    "## 특정 단어를 요청하거나 금지하는 방법"
   ]
  },
  {
   "attachments": {},
   "cell_type": "markdown",
   "metadata": {},
   "source": [
    "원하는 응답에 특정 단어를 포함하거나 (또는 특정 단어를 제외하고 싶을 경우), 프롬프트에서 이를 기술함으로써 달성할 수 있습니다.  \n",
    "그러나, 토큰에 돈을 지출하지 않고도 더 나은 방법이 있습니다.\n",
    "\n",
    "logit_bias 매개변수를 사용하여, 모델이 응답을 생성할 때 특정 토큰을 생성할 확률을 조정할 수 있습니다.  \n",
    "매개변수는 토큰 ID를 키(key)로, logit bias를 값(value)으로 갖는 딕셔너리를 받습니다.  \n",
    "logit bias는 -100에서 100 사이의 숫자입니다. 숫자가 클수록 해당 토큰이 생성될 가능성이 높아집니다.   \n",
    "반대로, 숫자가 작을수록 해당 토큰이 생성될 가능성이 낮아집니다.\n",
    "\n",
    "딕셔너리의 키는 단어가 아닌 토큰 ID입니다.  \n",
    "이러한 토큰은 Embedding API 또는 OpenAI 웹 토크나이저를 사용하여 가져올 수 있습니다.  \n",
    "웹 토크나이저는 즉석 쿼리 및 테스트 또는 코드에서 원하는/금지된 토큰에 대한 일정한 값을 지정하려는 경우에 유용합니다.\n",
    "\n",
    "예를 들어, 대화에서 응답을 생성하고자 하는데, 모델은 고양이 사료를 요청해야하지만, 프롬프트에는 이를 언급하지 않으려고 합니다\n",
    "\n",
    "logit_bias : -100 - 100 / default : null"
   ]
  },
  {
   "cell_type": "code",
   "execution_count": 12,
   "metadata": {},
   "outputs": [],
   "source": [
    "query = [\n",
    "    {\"role\": \"system\", \"content\": \"You pretend to be a client who wants to buy food for a pet. You want two cans of food. Say what pet you have.\"},\n",
    "    {\"role\": \"user\", \"content\": \"Hi, how can I help you?\"}\n",
    "]"
   ]
  },
  {
   "cell_type": "markdown",
   "metadata": {},
   "source": []
  },
  {
   "attachments": {},
   "cell_type": "markdown",
   "metadata": {},
   "source": [
    "대신, 웹 토크나이저를 열어서 우리가 원하는 단어에 해당하는 토큰 ID를 가져올 수 있습니다.  \n",
    "cat이라는 단어를 입력하면, 토크나이저에서는 토큰 ID 9246을 반환합니다.  \n",
    "그러나 이것만으로는 충분하지 않습니다. OpenAI는 같은 단어가 문장 중간에 있는 경우 다른 토큰 ID를 사용합니다.  \n",
    "이 경우, 단어 앞에 공백을 추가하여 두 개의 값이 생성됩니다.  \n",
    "예를 들어, \"cat cat\" 문자열의 토큰을 생성하면 \"cat\"에 대한 값 9246과 \" cat\"에 대한 값 3797 두 개가 생성됩니다.\n",
    "https://platform.openai.com/tokenizer\n",
    "\n",
    "\n",
    "우리는 생성된 응답에서 \" cat\"을 볼 확률을 높이기를 원하기 때문에,  \n",
    "토큰 ID와 함께 bias 매개변수로 20을 사용하여 bias 딕셔너리를 만듭니다."
   ]
  },
  {
   "cell_type": "code",
   "execution_count": 13,
   "metadata": {},
   "outputs": [],
   "source": [
    "logit_bias = {\n",
    "    3797: 20\n",
    "}"
   ]
  },
  {
   "attachments": {},
   "cell_type": "markdown",
   "metadata": {},
   "source": [
    "이제 API에 요청을 보낼 수 있습니다."
   ]
  },
  {
   "cell_type": "code",
   "execution_count": 14,
   "metadata": {},
   "outputs": [
    {
     "data": {
      "text/plain": [
       "<OpenAIObject chat.completion id=chatcmpl-6zgMEZAG7T5VVDNg4L7Cwgj0FX9AQ at 0x2d48676bc70> JSON: {\n",
       "  \"choices\": [\n",
       "    {\n",
       "      \"finish_reason\": \"stop\",\n",
       "      \"index\": 0,\n",
       "      \"message\": {\n",
       "        \"content\": \"Hello, I am looking to purchase some food for my pet. I would like to buy two cans of food for my cat. What options do you have available?\",\n",
       "        \"role\": \"assistant\"\n",
       "      }\n",
       "    }\n",
       "  ],\n",
       "  \"created\": 1680158850,\n",
       "  \"id\": \"chatcmpl-6zgMEZAG7T5VVDNg4L7Cwgj0FX9AQ\",\n",
       "  \"model\": \"gpt-3.5-turbo-0301\",\n",
       "  \"object\": \"chat.completion\",\n",
       "  \"usage\": {\n",
       "    \"completion_tokens\": 33,\n",
       "    \"prompt_tokens\": 49,\n",
       "    \"total_tokens\": 82\n",
       "  }\n",
       "}"
      ]
     },
     "execution_count": 14,
     "metadata": {},
     "output_type": "execute_result"
    }
   ],
   "source": [
    "openai.ChatCompletion.create(\n",
    "  model=\"gpt-3.5-turbo\",\n",
    "  messages=query,\n",
    "  logit_bias = logit_bias\n",
    ")"
   ]
  },
  {
   "cell_type": "code",
   "execution_count": 41,
   "metadata": {},
   "outputs": [],
   "source": [
    "# \"message\": {\n",
    "# \"content\": \"Hi, I would like to buy two cans of pet food please. Can you recommend a brand that is suitable for dogs? I have a Labrador Retriever at home that needs a healthy and balanced diet.\",\n",
    "# \"role\": \"assistant\"\n",
    "# }"
   ]
  },
  {
   "attachments": {},
   "cell_type": "markdown",
   "metadata": {},
   "source": [
    "이러한 매개변수는 확률을 수정합니다. 확률이 없는 일을 강제해 볼 수는 없습니다.  \n",
    "즉, 적절한 문맥에서 의미가 없는 단어를 ChatGPT에 강제로 사용하려고 하면, ChatGPT는 그것을 수행하지 않습니다.  \n",
    "\n",
    "또한, 매우 높은 값 (하지만 지원되는 범위 내)은 확률을 깨뜨리고 API 호출이 실패할 가능성이 있습니다.  \n",
    "\n",
    "bias 매개변수를 100으로 설정하여 동일한 입력을 사용하면 다음과 같은 결과가 나옵니다."
   ]
  },
  {
   "cell_type": "code",
   "execution_count": 42,
   "metadata": {},
   "outputs": [],
   "source": [
    "logit_bias = {\n",
    "    3797: 100\n",
    "}"
   ]
  },
  {
   "cell_type": "code",
   "execution_count": 43,
   "metadata": {},
   "outputs": [],
   "source": [
    "openai.ChatCompletion.create(\n",
    "  model=\"gpt-3.5-turbo\",\n",
    "  messages=query,\n",
    "  logit_bias = logit_bias\n",
    ")"
   ]
  },
  {
   "attachments": {},
   "cell_type": "markdown",
   "metadata": {},
   "source": [
    "위 api call은 crash됩니다."
   ]
  },
  {
   "attachments": {},
   "cell_type": "markdown",
   "metadata": {},
   "source": [
    "응답에서 단어를 제거하려면, bias 매개변수를 음수 값 ( -100 ~ -100 사이)으로 설정하면 됩니다.  \n",
    "물론, 단어가 문맥에서 유일한 의미 있는 요소이면, 모델은 그 단어를 여전히 사용할 수도 있습니다. (또는 실패할 수도 있습니다.)"
   ]
  }
 ],
 "metadata": {
  "kernelspec": {
   "display_name": "paper",
   "language": "python",
   "name": "python3"
  },
  "language_info": {
   "codemirror_mode": {
    "name": "ipython",
    "version": 3
   },
   "file_extension": ".py",
   "mimetype": "text/x-python",
   "name": "python",
   "nbconvert_exporter": "python",
   "pygments_lexer": "ipython3",
   "version": "3.8.16"
  },
  "orig_nbformat": 4
 },
 "nbformat": 4,
 "nbformat_minor": 2
}
